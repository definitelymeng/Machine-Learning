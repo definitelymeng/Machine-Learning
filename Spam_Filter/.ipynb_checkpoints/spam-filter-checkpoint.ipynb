{
 "cells": [
  {
   "cell_type": "markdown",
   "metadata": {},
   "source": [
    "# Spam Filter\n",
    "\n",
    "This dataset contains sms messages labeled as ham or spam, which is originally posted on UCI Machine Learning repository"
   ]
  },
  {
   "cell_type": "markdown",
   "metadata": {},
   "source": [
    "## Data load"
   ]
  },
  {
   "cell_type": "code",
   "execution_count": null,
   "metadata": {},
   "outputs": [],
   "source": [
    "# import libraries\n",
    "import pandas as pd\n",
    "import numpy as np\n",
    "\n",
    "#display first 5 rows in dataset\n",
    "lines=[line for line in open('smsspamcollection/SMSSpamCollection')]\n",
    "lines[:5]"
   ]
  },
  {
   "cell_type": "code",
   "execution_count": null,
   "metadata": {},
   "outputs": [],
   "source": [
    "# we can see it is tab separated with no header\n",
    "# read the dataset specifying sep and column name\n",
    "df = pd.read_csv('smsspamcollection/SMSSpamCollection',sep='\\t', names= ['label', 'sms_message'])\n",
    "\n",
    "#display first 5 rows\n",
    "df.head()"
   ]
  },
  {
   "cell_type": "code",
   "execution_count": null,
   "metadata": {},
   "outputs": [],
   "source": [
    "# check dataframe info to see if exists null value\n",
    "# check the number of spam and ham emails\n",
    "print(df.info())\n",
    "print(df.groupby('label').count())"
   ]
  },
  {
   "cell_type": "markdown",
   "metadata": {},
   "source": [
    "## Data Pre-processing"
   ]
  },
  {
   "cell_type": "code",
   "execution_count": null,
   "metadata": {},
   "outputs": [],
   "source": [
    "# convert label column to int with ham as 0 and spam as 1\n",
    "df['label'] = df.label.map(lambda x: 1 if x=='spam' else 0)"
   ]
  },
  {
   "cell_type": "code",
   "execution_count": null,
   "metadata": {},
   "outputs": [],
   "source": [
    "df.head()"
   ]
  },
  {
   "cell_type": "code",
   "execution_count": null,
   "metadata": {},
   "outputs": [],
   "source": [
    "#create list of ham messages for visualization\n",
    "ham = [line for line in df.loc[df['label']==0]['sms_message']]\n",
    "\n",
    "# convert to lower case\n",
    "ham = [line.lower() for line in ham]\n",
    "\n",
    "# remove punctuation\n",
    "import re\n",
    "ham = [re.sub(r'[^\\w\\s]','',line) for line in ham]\n",
    "\n",
    "\n",
    "\n",
    "#remove stopwords\n",
    "ham_list =[]\n",
    "from nltk.corpus import stopwords\n",
    "for line in ham:\n",
    "     for word in line:\n",
    "        if word not in stopwords.words('english'):\n",
    "            ham_list.append(word)\n",
    "print(ham_list[:5])"
   ]
  },
  {
   "cell_type": "markdown",
   "metadata": {},
   "source": [
    "## Data Visualization"
   ]
  },
  {
   "cell_type": "code",
   "execution_count": 30,
   "metadata": {},
   "outputs": [],
   "source": [
    "import matplotlib.pyplot as plt\n",
    "from wordcloud import WordCloud"
   ]
  },
  {
   "cell_type": "code",
   "execution_count": null,
   "metadata": {},
   "outputs": [],
   "source": []
  }
 ],
 "metadata": {
  "kernelspec": {
   "display_name": "Python 3",
   "language": "python",
   "name": "python3"
  },
  "language_info": {
   "codemirror_mode": {
    "name": "ipython",
    "version": 3
   },
   "file_extension": ".py",
   "mimetype": "text/x-python",
   "name": "python",
   "nbconvert_exporter": "python",
   "pygments_lexer": "ipython3",
   "version": "3.6.8"
  }
 },
 "nbformat": 4,
 "nbformat_minor": 2
}
